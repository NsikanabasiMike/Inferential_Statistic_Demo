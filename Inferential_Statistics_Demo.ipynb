{
 "cells": [
  {
   "cell_type": "markdown",
   "id": "1406e66d",
   "metadata": {},
   "source": [
    "## Table of Contents\n",
    "- [Data Exploration and Wrangling](#explore)\n",
    "- [Inferential Statistics and Results](#statistics)\n",
    "- [Summary](#summary)"
   ]
  },
  {
   "cell_type": "code",
   "execution_count": 1,
   "id": "2b1f4687",
   "metadata": {
    "collapsed": true
   },
   "outputs": [
    {
     "name": "stderr",
     "output_type": "stream",
     "text": [
      "C:\\Users\\MR. NSIKAN\\anaconda3\\lib\\site-packages\\scipy\\__init__.py:146: UserWarning: A NumPy version >=1.16.5 and <1.23.0 is required for this version of SciPy (detected version 1.24.3\n",
      "  warnings.warn(f\"A NumPy version >={np_minversion} and <{np_maxversion}\"\n"
     ]
    }
   ],
   "source": [
    "# Import necessary libraries\n",
    "import pandas as pd\n",
    "import numpy as np\n",
    "import matplotlib.pyplot as plt\n",
    "import seaborn as sns\n",
    "\n",
    "import statsmodels.api as sm\n",
    "from scipy.stats import f_oneway, shapiro, levene\n",
    "\n",
    "import pingouin as pg\n",
    "import pycountry\n",
    "\n",
    "%matplotlib inline"
   ]
  },
  {
   "cell_type": "markdown",
   "id": "f89b57a6",
   "metadata": {},
   "source": [
    "<a id='explore'></a>\n",
    "### Data Exploration"
   ]
  },
  {
   "cell_type": "code",
   "execution_count": 2,
   "id": "c6ad172d",
   "metadata": {},
   "outputs": [
    {
     "data": {
      "text/html": [
       "<div>\n",
       "<style scoped>\n",
       "    .dataframe tbody tr th:only-of-type {\n",
       "        vertical-align: middle;\n",
       "    }\n",
       "\n",
       "    .dataframe tbody tr th {\n",
       "        vertical-align: top;\n",
       "    }\n",
       "\n",
       "    .dataframe thead th {\n",
       "        text-align: right;\n",
       "    }\n",
       "</style>\n",
       "<table border=\"1\" class=\"dataframe\">\n",
       "  <thead>\n",
       "    <tr style=\"text-align: right;\">\n",
       "      <th></th>\n",
       "      <th>Region/Country/Area</th>\n",
       "      <th>Unnamed: 1</th>\n",
       "      <th>Year</th>\n",
       "      <th>Series</th>\n",
       "      <th>Value</th>\n",
       "      <th>Footnotes</th>\n",
       "      <th>Source</th>\n",
       "    </tr>\n",
       "  </thead>\n",
       "  <tbody>\n",
       "    <tr>\n",
       "      <th>0</th>\n",
       "      <td>1</td>\n",
       "      <td>Total, all countries or areas</td>\n",
       "      <td>2010</td>\n",
       "      <td>Population annual rate of increase (percent)</td>\n",
       "      <td>1.3</td>\n",
       "      <td>NaN</td>\n",
       "      <td>United Nations Population Division, New York, ...</td>\n",
       "    </tr>\n",
       "    <tr>\n",
       "      <th>1</th>\n",
       "      <td>1</td>\n",
       "      <td>Total, all countries or areas</td>\n",
       "      <td>2010</td>\n",
       "      <td>Total fertility rate (children per women)</td>\n",
       "      <td>2.6</td>\n",
       "      <td>NaN</td>\n",
       "      <td>United Nations Population Division, New York, ...</td>\n",
       "    </tr>\n",
       "    <tr>\n",
       "      <th>2</th>\n",
       "      <td>1</td>\n",
       "      <td>Total, all countries or areas</td>\n",
       "      <td>2010</td>\n",
       "      <td>Infant mortality for both sexes (per 1,000 liv...</td>\n",
       "      <td>37.1</td>\n",
       "      <td>NaN</td>\n",
       "      <td>United Nations Statistics Division, New York, ...</td>\n",
       "    </tr>\n",
       "    <tr>\n",
       "      <th>3</th>\n",
       "      <td>1</td>\n",
       "      <td>Total, all countries or areas</td>\n",
       "      <td>2010</td>\n",
       "      <td>Maternal mortality ratio (deaths per 100,000 p...</td>\n",
       "      <td>254</td>\n",
       "      <td>NaN</td>\n",
       "      <td>World Health Organization (WHO), the United Na...</td>\n",
       "    </tr>\n",
       "    <tr>\n",
       "      <th>4</th>\n",
       "      <td>1</td>\n",
       "      <td>Total, all countries or areas</td>\n",
       "      <td>2010</td>\n",
       "      <td>Life expectancy at birth for both sexes (years)</td>\n",
       "      <td>70.1</td>\n",
       "      <td>NaN</td>\n",
       "      <td>United Nations Population Division, New York, ...</td>\n",
       "    </tr>\n",
       "  </tbody>\n",
       "</table>\n",
       "</div>"
      ],
      "text/plain": [
       "   Region/Country/Area                     Unnamed: 1  Year  \\\n",
       "0                    1  Total, all countries or areas  2010   \n",
       "1                    1  Total, all countries or areas  2010   \n",
       "2                    1  Total, all countries or areas  2010   \n",
       "3                    1  Total, all countries or areas  2010   \n",
       "4                    1  Total, all countries or areas  2010   \n",
       "\n",
       "                                              Series Value Footnotes  \\\n",
       "0       Population annual rate of increase (percent)   1.3       NaN   \n",
       "1          Total fertility rate (children per women)   2.6       NaN   \n",
       "2  Infant mortality for both sexes (per 1,000 liv...  37.1       NaN   \n",
       "3  Maternal mortality ratio (deaths per 100,000 p...   254       NaN   \n",
       "4    Life expectancy at birth for both sexes (years)  70.1       NaN   \n",
       "\n",
       "                                              Source  \n",
       "0  United Nations Population Division, New York, ...  \n",
       "1  United Nations Population Division, New York, ...  \n",
       "2  United Nations Statistics Division, New York, ...  \n",
       "3  World Health Organization (WHO), the United Na...  \n",
       "4  United Nations Population Division, New York, ...  "
      ]
     },
     "execution_count": 2,
     "metadata": {},
     "output_type": "execute_result"
    }
   ],
   "source": [
    "# Load data into a dataframe\n",
    "df = pd.read_csv('SYB66_246_202310_Population Growth, Fertility and Mortality Indicators.csv', encoding= 'ANSI', header= 1)\n",
    "df.head()"
   ]
  },
  {
   "cell_type": "code",
   "execution_count": 3,
   "id": "7d1f7ea8",
   "metadata": {},
   "outputs": [],
   "source": [
    "# Rename columns\n",
    "df.rename(columns= {\n",
    "    'Unnamed: 1':'Country/Area',\n",
    "    'Region/Country/Area': 'Region'\n",
    "}, inplace= True)"
   ]
  },
  {
   "cell_type": "code",
   "execution_count": 4,
   "id": "c9f8a169",
   "metadata": {},
   "outputs": [
    {
     "data": {
      "text/html": [
       "<div>\n",
       "<style scoped>\n",
       "    .dataframe tbody tr th:only-of-type {\n",
       "        vertical-align: middle;\n",
       "    }\n",
       "\n",
       "    .dataframe tbody tr th {\n",
       "        vertical-align: top;\n",
       "    }\n",
       "\n",
       "    .dataframe thead th {\n",
       "        text-align: right;\n",
       "    }\n",
       "</style>\n",
       "<table border=\"1\" class=\"dataframe\">\n",
       "  <thead>\n",
       "    <tr style=\"text-align: right;\">\n",
       "      <th></th>\n",
       "      <th>Region</th>\n",
       "      <th>Country/Area</th>\n",
       "      <th>Year</th>\n",
       "      <th>Series</th>\n",
       "      <th>Value</th>\n",
       "      <th>Footnotes</th>\n",
       "      <th>Source</th>\n",
       "    </tr>\n",
       "  </thead>\n",
       "  <tbody>\n",
       "    <tr>\n",
       "      <th>0</th>\n",
       "      <td>1</td>\n",
       "      <td>Total, all countries or areas</td>\n",
       "      <td>2010</td>\n",
       "      <td>Population annual rate of increase (percent)</td>\n",
       "      <td>1.3</td>\n",
       "      <td>NaN</td>\n",
       "      <td>United Nations Population Division, New York, ...</td>\n",
       "    </tr>\n",
       "    <tr>\n",
       "      <th>1</th>\n",
       "      <td>1</td>\n",
       "      <td>Total, all countries or areas</td>\n",
       "      <td>2010</td>\n",
       "      <td>Total fertility rate (children per women)</td>\n",
       "      <td>2.6</td>\n",
       "      <td>NaN</td>\n",
       "      <td>United Nations Population Division, New York, ...</td>\n",
       "    </tr>\n",
       "  </tbody>\n",
       "</table>\n",
       "</div>"
      ],
      "text/plain": [
       "   Region                   Country/Area  Year  \\\n",
       "0       1  Total, all countries or areas  2010   \n",
       "1       1  Total, all countries or areas  2010   \n",
       "\n",
       "                                         Series Value Footnotes  \\\n",
       "0  Population annual rate of increase (percent)   1.3       NaN   \n",
       "1     Total fertility rate (children per women)   2.6       NaN   \n",
       "\n",
       "                                              Source  \n",
       "0  United Nations Population Division, New York, ...  \n",
       "1  United Nations Population Division, New York, ...  "
      ]
     },
     "execution_count": 4,
     "metadata": {},
     "output_type": "execute_result"
    }
   ],
   "source": [
    "# Inspect the effected changes\n",
    "df.head(2)"
   ]
  },
  {
   "cell_type": "code",
   "execution_count": 5,
   "id": "cfac7d58",
   "metadata": {},
   "outputs": [
    {
     "data": {
      "text/plain": [
       "Region           268\n",
       "Country/Area     268\n",
       "Year               4\n",
       "Series             7\n",
       "Value           1076\n",
       "Footnotes         81\n",
       "Source             4\n",
       "dtype: int64"
      ]
     },
     "execution_count": 5,
     "metadata": {},
     "output_type": "execute_result"
    }
   ],
   "source": [
    "# Check the number of unique values in each column\n",
    "df.nunique()"
   ]
  },
  {
   "cell_type": "code",
   "execution_count": 6,
   "id": "43198a38",
   "metadata": {},
   "outputs": [
    {
     "data": {
      "text/plain": [
       "array([2010, 2015, 2020, 2022], dtype=int64)"
      ]
     },
     "execution_count": 6,
     "metadata": {},
     "output_type": "execute_result"
    }
   ],
   "source": [
    "df.Year.unique()"
   ]
  },
  {
   "cell_type": "code",
   "execution_count": 7,
   "id": "027ad1d3",
   "metadata": {},
   "outputs": [
    {
     "name": "stdout",
     "output_type": "stream",
     "text": [
      "<class 'pandas.core.frame.DataFrame'>\n",
      "RangeIndex: 6756 entries, 0 to 6755\n",
      "Data columns (total 7 columns):\n",
      " #   Column        Non-Null Count  Dtype \n",
      "---  ------        --------------  ----- \n",
      " 0   Region        6756 non-null   int64 \n",
      " 1   Country/Area  6756 non-null   object\n",
      " 2   Year          6756 non-null   int64 \n",
      " 3   Series        6756 non-null   object\n",
      " 4   Value         6756 non-null   object\n",
      " 5   Footnotes     2526 non-null   object\n",
      " 6   Source        6756 non-null   object\n",
      "dtypes: int64(2), object(5)\n",
      "memory usage: 369.6+ KB\n"
     ]
    }
   ],
   "source": [
    "# Inspect data info\n",
    "df.info()"
   ]
  },
  {
   "cell_type": "markdown",
   "id": "f896f02d",
   "metadata": {},
   "source": [
    "#### `Value` should be float"
   ]
  },
  {
   "cell_type": "code",
   "execution_count": 8,
   "id": "60e2647c",
   "metadata": {},
   "outputs": [],
   "source": [
    "# Change Value dtype to float\n",
    "df.Value = df.Value.str.replace(',', '').astype(float)"
   ]
  },
  {
   "cell_type": "code",
   "execution_count": 9,
   "id": "4a35b7b0",
   "metadata": {},
   "outputs": [
    {
     "data": {
      "text/plain": [
       "array(['United Nations Population Division, New York, World Population Prospects: The 2022 Revision, last accessed July 2022.',\n",
       "       'United Nations Population Division, New York, World Population Prospects: The 2022 Revision; supplemented by data from the United Nations Statistics Division, New York, Demographic Yearbook 2021 and Secretariat for the Pacific Community (SPC) for small countries or areas, last accessed July 2022.',\n",
       "       'United Nations Statistics Division, New York, \"Demographic Yearbook 2021\" and the demographic statistics database, last accessed June 2022.',\n",
       "       'World Health Organization (WHO), the United Nations Children\\'s Fund (UNICEF), the United Nations Population Fund (UNFPA), the World Bank and the United Nations Population Division, \"Trends in Maternal Mortality 2000 - 2020.\"'],\n",
       "      dtype=object)"
      ]
     },
     "execution_count": 9,
     "metadata": {},
     "output_type": "execute_result"
    }
   ],
   "source": [
    "# Unique Source values\n",
    "df.Source.unique()"
   ]
  },
  {
   "cell_type": "code",
   "execution_count": 10,
   "id": "8cec5456",
   "metadata": {},
   "outputs": [
    {
     "data": {
      "text/plain": [
       "array(['Total, all countries or areas', 'Africa', 'Northern Africa',\n",
       "       'Sub-Saharan Africa', 'Eastern Africa', 'Middle Africa',\n",
       "       'Southern Africa', 'Western Africa', 'Americas',\n",
       "       'Northern America', 'Latin America & the Caribbean', 'Caribbean',\n",
       "       'Central America', 'South America', 'Asia', 'Central Asia',\n",
       "       'Eastern Asia', 'South-central Asia', 'South-eastern Asia',\n",
       "       'Southern Asia', 'Western Asia', 'Europe', 'Eastern Europe',\n",
       "       'Northern Europe', 'Southern Europe', 'Western Europe', 'Oceania',\n",
       "       'Australia and New Zealand', 'Melanesia', 'Micronesia',\n",
       "       'Polynesia', 'Afghanistan', 'Albania', 'Algeria', 'American Samoa',\n",
       "       'Andorra', 'Angola', 'Anguilla', 'Antigua and Barbuda',\n",
       "       'Argentina', 'Armenia', 'Aruba', 'Australia', 'Austria',\n",
       "       'Azerbaijan', 'Bahamas', 'Bahrain', 'Bangladesh', 'Barbados',\n",
       "       'Belarus', 'Belgium', 'Belize', 'Benin', 'Bermuda', 'Bhutan',\n",
       "       'Bolivia (Plurin. State of)', 'Bonaire, St. Eustatius & Saba',\n",
       "       'Bosnia and Herzegovina', 'Botswana', 'Brazil',\n",
       "       'British Virgin Islands', 'Brunei Darussalam', 'Bulgaria',\n",
       "       'Burkina Faso', 'Burundi', 'Cabo Verde', 'Cambodia', 'Cameroon',\n",
       "       'Canada', 'Cayman Islands', 'Central African Republic', 'Chad',\n",
       "       'Chile', 'China', 'China, Hong Kong SAR', 'China, Macao SAR',\n",
       "       'Colombia', 'Comoros', 'Congo', 'Cook Islands', 'Costa Rica',\n",
       "       'Côte d’Ivoire', 'Croatia', 'Cuba', 'Curaçao', 'Cyprus', 'Czechia',\n",
       "       \"Dem. People's Rep. Korea\", 'Dem. Rep. of the Congo', 'Denmark',\n",
       "       'Djibouti', 'Dominica', 'Dominican Republic', 'Ecuador', 'Egypt',\n",
       "       'El Salvador', 'Equatorial Guinea', 'Eritrea', 'Estonia',\n",
       "       'Eswatini', 'Ethiopia', 'Falkland Islands (Malvinas)',\n",
       "       'Faroe Islands', 'Fiji', 'Finland', 'France', 'French Guiana',\n",
       "       'French Polynesia', 'Gabon', 'Gambia', 'Georgia', 'Germany',\n",
       "       'Ghana', 'Gibraltar', 'Greece', 'Greenland', 'Grenada',\n",
       "       'Guadeloupe', 'Guam', 'Guatemala', 'Guinea', 'Guinea-Bissau',\n",
       "       'Guyana', 'Haiti', 'Holy See', 'Honduras', 'Hungary', 'Iceland',\n",
       "       'India', 'Indonesia', 'Iran (Islamic Republic of)', 'Iraq',\n",
       "       'Ireland', 'Isle of Man', 'Israel', 'Italy', 'Jamaica', 'Japan',\n",
       "       'Jordan', 'Kazakhstan', 'Kenya', 'Kiribati', 'Kuwait',\n",
       "       'Kyrgyzstan', \"Lao People's Dem. Rep.\", 'Latvia', 'Lebanon',\n",
       "       'Lesotho', 'Liberia', 'Libya', 'Liechtenstein', 'Lithuania',\n",
       "       'Luxembourg', 'Madagascar', 'Malawi', 'Malaysia', 'Maldives',\n",
       "       'Mali', 'Malta', 'Marshall Islands', 'Martinique', 'Mauritania',\n",
       "       'Mauritius', 'Mayotte', 'Mexico', 'Micronesia (Fed. States of)',\n",
       "       'Monaco', 'Mongolia', 'Montenegro', 'Montserrat', 'Morocco',\n",
       "       'Mozambique', 'Myanmar', 'Namibia', 'Nauru', 'Nepal',\n",
       "       'Netherlands (Kingdom of the)', 'New Caledonia', 'New Zealand',\n",
       "       'Nicaragua', 'Niger', 'Nigeria', 'Niue', 'North Macedonia',\n",
       "       'Northern Mariana Islands', 'Norway', 'Oman',\n",
       "       'Other non-specified areas', 'Pakistan', 'Palau', 'Panama',\n",
       "       'Papua New Guinea', 'Paraguay', 'Peru', 'Philippines', 'Poland',\n",
       "       'Portugal', 'Puerto Rico', 'Qatar', 'Republic of Korea',\n",
       "       'Republic of Moldova', 'Réunion', 'Romania', 'Russian Federation',\n",
       "       'Rwanda', 'Saint Barthélemy', 'Saint Helena',\n",
       "       'Saint Kitts and Nevis', 'Saint Lucia',\n",
       "       'Saint Martin (French part)', 'Saint Pierre and Miquelon',\n",
       "       'Saint Vincent & Grenadines', 'Samoa', 'San Marino',\n",
       "       'Sao Tome and Principe', 'Saudi Arabia', 'Senegal', 'Serbia',\n",
       "       'Seychelles', 'Sierra Leone', 'Singapore',\n",
       "       'Sint Maarten (Dutch part)', 'Slovakia', 'Slovenia',\n",
       "       'Solomon Islands', 'Somalia', 'South Africa', 'South Sudan',\n",
       "       'Spain', 'Sri Lanka', 'State of Palestine', 'Sudan', 'Suriname',\n",
       "       'Sweden', 'Switzerland', 'Syrian Arab Republic', 'Tajikistan',\n",
       "       'Thailand', 'Timor-Leste', 'Togo', 'Tokelau', 'Tonga',\n",
       "       'Trinidad and Tobago', 'Tunisia', 'Türkiye', 'Turkmenistan',\n",
       "       'Turks and Caicos Islands', 'Tuvalu', 'Uganda', 'Ukraine',\n",
       "       'United Arab Emirates', 'United Kingdom',\n",
       "       'United Rep. of Tanzania', 'United States of America',\n",
       "       'United States Virgin Islands', 'Uruguay', 'Uzbekistan', 'Vanuatu',\n",
       "       'Venezuela (Boliv. Rep. of)', 'Viet Nam',\n",
       "       'Wallis and Futuna Islands', 'Western Sahara', 'Yemen', 'Zambia',\n",
       "       'Zimbabwe', 'LLDCs', 'LDC§', 'SIDS'], dtype=object)"
      ]
     },
     "execution_count": 10,
     "metadata": {},
     "output_type": "execute_result"
    }
   ],
   "source": [
    "# Unique countries, areas, and regions in the dataset\n",
    "df['Country/Area'].unique()"
   ]
  },
  {
   "cell_type": "code",
   "execution_count": 11,
   "id": "e3fe1d07",
   "metadata": {},
   "outputs": [],
   "source": [
    "# Extract real country names from Country/Area\n",
    "country_ls = []\n",
    "for country in df['Country/Area']:\n",
    "    try:\n",
    "        country_ls.append(pycountry.countries.lookup(country).name)\n",
    "    except Exception:\n",
    "        continue\n",
    "# Extract unique country names\n",
    "country_ls = list(set(country_ls))"
   ]
  },
  {
   "cell_type": "code",
   "execution_count": 12,
   "id": "6bcfbb93",
   "metadata": {
    "scrolled": false
   },
   "outputs": [],
   "source": [
    "# Create a new df containing only real countries\n",
    "new_df = df[df['Country/Area'].isin(country_ls)]"
   ]
  },
  {
   "cell_type": "code",
   "execution_count": 13,
   "id": "7f047e8b",
   "metadata": {},
   "outputs": [
    {
     "data": {
      "text/html": [
       "<div>\n",
       "<style scoped>\n",
       "    .dataframe tbody tr th:only-of-type {\n",
       "        vertical-align: middle;\n",
       "    }\n",
       "\n",
       "    .dataframe tbody tr th {\n",
       "        vertical-align: top;\n",
       "    }\n",
       "\n",
       "    .dataframe thead th {\n",
       "        text-align: right;\n",
       "    }\n",
       "</style>\n",
       "<table border=\"1\" class=\"dataframe\">\n",
       "  <thead>\n",
       "    <tr style=\"text-align: right;\">\n",
       "      <th></th>\n",
       "      <th>Region</th>\n",
       "      <th>Country/Area</th>\n",
       "      <th>Year</th>\n",
       "      <th>Series</th>\n",
       "      <th>Value</th>\n",
       "      <th>Footnotes</th>\n",
       "      <th>Source</th>\n",
       "    </tr>\n",
       "  </thead>\n",
       "  <tbody>\n",
       "    <tr>\n",
       "      <th>813</th>\n",
       "      <td>4</td>\n",
       "      <td>Afghanistan</td>\n",
       "      <td>2010</td>\n",
       "      <td>Population annual rate of increase (percent)</td>\n",
       "      <td>2.7</td>\n",
       "      <td>NaN</td>\n",
       "      <td>United Nations Population Division, New York, ...</td>\n",
       "    </tr>\n",
       "    <tr>\n",
       "      <th>814</th>\n",
       "      <td>4</td>\n",
       "      <td>Afghanistan</td>\n",
       "      <td>2010</td>\n",
       "      <td>Total fertility rate (children per women)</td>\n",
       "      <td>6.1</td>\n",
       "      <td>NaN</td>\n",
       "      <td>United Nations Population Division, New York, ...</td>\n",
       "    </tr>\n",
       "    <tr>\n",
       "      <th>815</th>\n",
       "      <td>4</td>\n",
       "      <td>Afghanistan</td>\n",
       "      <td>2010</td>\n",
       "      <td>Infant mortality for both sexes (per 1,000 liv...</td>\n",
       "      <td>64.8</td>\n",
       "      <td>NaN</td>\n",
       "      <td>United Nations Statistics Division, New York, ...</td>\n",
       "    </tr>\n",
       "    <tr>\n",
       "      <th>816</th>\n",
       "      <td>4</td>\n",
       "      <td>Afghanistan</td>\n",
       "      <td>2010</td>\n",
       "      <td>Maternal mortality ratio (deaths per 100,000 p...</td>\n",
       "      <td>899.0</td>\n",
       "      <td>NaN</td>\n",
       "      <td>World Health Organization (WHO), the United Na...</td>\n",
       "    </tr>\n",
       "    <tr>\n",
       "      <th>817</th>\n",
       "      <td>4</td>\n",
       "      <td>Afghanistan</td>\n",
       "      <td>2010</td>\n",
       "      <td>Life expectancy at birth for both sexes (years)</td>\n",
       "      <td>60.9</td>\n",
       "      <td>NaN</td>\n",
       "      <td>United Nations Population Division, New York, ...</td>\n",
       "    </tr>\n",
       "  </tbody>\n",
       "</table>\n",
       "</div>"
      ],
      "text/plain": [
       "     Region Country/Area  Year  \\\n",
       "813       4  Afghanistan  2010   \n",
       "814       4  Afghanistan  2010   \n",
       "815       4  Afghanistan  2010   \n",
       "816       4  Afghanistan  2010   \n",
       "817       4  Afghanistan  2010   \n",
       "\n",
       "                                                Series  Value Footnotes  \\\n",
       "813       Population annual rate of increase (percent)    2.7       NaN   \n",
       "814          Total fertility rate (children per women)    6.1       NaN   \n",
       "815  Infant mortality for both sexes (per 1,000 liv...   64.8       NaN   \n",
       "816  Maternal mortality ratio (deaths per 100,000 p...  899.0       NaN   \n",
       "817    Life expectancy at birth for both sexes (years)   60.9       NaN   \n",
       "\n",
       "                                                Source  \n",
       "813  United Nations Population Division, New York, ...  \n",
       "814  United Nations Population Division, New York, ...  \n",
       "815  United Nations Statistics Division, New York, ...  \n",
       "816  World Health Organization (WHO), the United Na...  \n",
       "817  United Nations Population Division, New York, ...  "
      ]
     },
     "execution_count": 13,
     "metadata": {},
     "output_type": "execute_result"
    }
   ],
   "source": [
    "new_df.head()"
   ]
  },
  {
   "cell_type": "code",
   "execution_count": 14,
   "id": "6b0ca8ec",
   "metadata": {},
   "outputs": [],
   "source": [
    "# Rename Country/Area with Country\n",
    "new_df = new_df.copy()\n",
    "new_df.rename(columns={'Country/Area': 'Country'}, inplace= True)"
   ]
  },
  {
   "cell_type": "code",
   "execution_count": 15,
   "id": "4057e486",
   "metadata": {
    "scrolled": true
   },
   "outputs": [
    {
     "name": "stdout",
     "output_type": "stream",
     "text": [
      "<class 'pandas.core.frame.DataFrame'>\n",
      "Index: 5283 entries, 813 to 6674\n",
      "Data columns (total 7 columns):\n",
      " #   Column     Non-Null Count  Dtype  \n",
      "---  ------     --------------  -----  \n",
      " 0   Region     5283 non-null   int64  \n",
      " 1   Country    5283 non-null   object \n",
      " 2   Year       5283 non-null   int64  \n",
      " 3   Series     5283 non-null   object \n",
      " 4   Value      5283 non-null   float64\n",
      " 5   Footnotes  1854 non-null   object \n",
      " 6   Source     5283 non-null   object \n",
      "dtypes: float64(1), int64(2), object(4)\n",
      "memory usage: 330.2+ KB\n"
     ]
    }
   ],
   "source": [
    "# Check info of new df\n",
    "new_df.info()"
   ]
  },
  {
   "cell_type": "markdown",
   "id": "0a0f567f",
   "metadata": {},
   "source": [
    "<a id='statistics'></a>\n",
    "### Inferential Statistics and Results"
   ]
  },
  {
   "cell_type": "code",
   "execution_count": 16,
   "id": "bdb08da7",
   "metadata": {
    "scrolled": false
   },
   "outputs": [
    {
     "data": {
      "image/png": "[encoded data removed]",
      "text/plain": [
       "<Figure size 640x480 with 1 Axes>"
      ]
     },
     "metadata": {},
     "output_type": "display_data"
    }
   ],
   "source": [
    "# Check mean values of each Series variable in Series\n",
    "series_var_meanvals = new_df.groupby(['Series'])['Value'].mean().sort_values(ascending = False)\n",
    "\n",
    "# Plot a barchart\n",
    "series_var_meanvals.plot(kind = 'bar');\n",
    "plt.xlabel('Series');\n",
    "plt.ylabel('Mean Value');\n",
    "plt.title('Mean Values for Each Series Variable');\n",
    "plt.savefig('pic_1.png', bbox_inches = 'tight')"
   ]
  },
  {
   "cell_type": "code",
   "execution_count": 17,
   "id": "782fa3ca",
   "metadata": {
    "scrolled": true
   },
   "outputs": [],
   "source": [
    "# Subset the data using Series to only contain Maternal mortality ratio (deaths per 100,000 population)\n",
    "# and Infant mortality for both sexes (per 1,000 live births)\n",
    "maternal_mortality = new_df[new_df.Series == 'Maternal mortality ratio (deaths per 100,000 population)']\n",
    "infant_mortality = new_df[new_df.Series == 'Infant mortality for both sexes (per 1,000 live births)']"
   ]
  },
  {
   "cell_type": "code",
   "execution_count": 18,
   "id": "56eed309",
   "metadata": {
    "scrolled": true
   },
   "outputs": [
    {
     "data": {
      "text/plain": [
       "ShapiroResult(statistic=0.6973698139190674, pvalue=3.575271973709606e-29)"
      ]
     },
     "execution_count": 18,
     "metadata": {},
     "output_type": "execute_result"
    }
   ],
   "source": [
    "# Check normalty of distribution for maternal mortality\n",
    "shapiro(maternal_mortality.Value)"
   ]
  },
  {
   "cell_type": "code",
   "execution_count": 19,
   "id": "0332a30a",
   "metadata": {},
   "outputs": [
    {
     "data": {
      "text/plain": [
       "ShapiroResult(statistic=0.8235345482826233, pvalue=1.0948036639422955e-28)"
      ]
     },
     "execution_count": 19,
     "metadata": {},
     "output_type": "execute_result"
    }
   ],
   "source": [
    "# Check normalty of distribution for infant mortality\n",
    "shapiro(infant_mortality.Value)"
   ]
  },
  {
   "cell_type": "markdown",
   "id": "d20ce94a",
   "metadata": {},
   "source": [
    "With p-values for both Infant mortality and maternal mortality less than 0.05, we reject the null hypothesis that the data is normally distributed."
   ]
  },
  {
   "cell_type": "code",
   "execution_count": 20,
   "id": "d4343013",
   "metadata": {},
   "outputs": [
    {
     "data": {
      "image/png": "[encoded data removed]",
      "text/plain": [
       "<Figure size 640x480 with 1 Axes>"
      ]
     },
     "metadata": {},
     "output_type": "display_data"
    }
   ],
   "source": [
    "# Check mean Maternal Mortality Values for Top 10 Countries\n",
    "\n",
    "# Get top 10 maternal mortality countries\n",
    "top_10_mat_mor = maternal_mortality.groupby('Country')['Value'].mean().sort_values(ascending = False)[:10]\n",
    "\n",
    "# Plot a barchart\n",
    "top_10_mat_mor.plot(kind = 'bar');\n",
    "plt.xlabel('Country');\n",
    "plt.ylabel('Mean maternal mortality ratio');\n",
    "plt.title('Mean Maternal Mortality Values for Top 10 Countries');\n",
    "plt.savefig('pic_2.png', bbox_inches = 'tight')"
   ]
  },
  {
   "cell_type": "code",
   "execution_count": 21,
   "id": "604527a8",
   "metadata": {},
   "outputs": [
    {
     "data": {
      "image/png": "[encoded data removed]",
      "text/plain": [
       "<Figure size 640x480 with 1 Axes>"
      ]
     },
     "metadata": {},
     "output_type": "display_data"
    }
   ],
   "source": [
    "# Check mean infant mortality values for top 10 countries\n",
    "\n",
    "# Get top 10 maternal mortality countries\n",
    "top_10_inf_mor = infant_mortality.groupby('Country')['Value'].mean().sort_values(ascending = False)[:10]\n",
    "\n",
    "# Plot a barchart\n",
    "top_10_inf_mor.plot(kind = 'bar');\n",
    "plt.xlabel('Country');\n",
    "plt.ylabel('Mean maternal mortality ratio');\n",
    "plt.title('Mean Infant Mortality Values for Top 10 Countries');\n",
    "plt.savefig('pic_3.png', bbox_inches = 'tight')"
   ]
  },
  {
   "cell_type": "code",
   "execution_count": 22,
   "id": "b9048949",
   "metadata": {},
   "outputs": [],
   "source": [
    "# List of top 5 mortality coutries\n",
    "top_5_mat_mortality = ['South Sudan', \n",
    "                       'Chad', \n",
    "                       'Nigeria', \n",
    "                       'Central African Republic', \n",
    "                       'Somalia'\n",
    "                      ]\n",
    "\n",
    "top_5_inf_mortality = ['Sierra Leone', \n",
    "                       'Chad', \n",
    "                       'Nigeria', \n",
    "                       'Central African Republic',\n",
    "                       'Somalia'\n",
    "                      ]\n",
    "\n",
    "# Create dfs containing the top 5 mortality countries\n",
    "df_mat_mortality = maternal_mortality[maternal_mortality['Country'].isin(top_5_mat_mortality)]\n",
    "df_inf_mortality = infant_mortality[infant_mortality['Country'].isin(top_5_inf_mortality)]"
   ]
  },
  {
   "cell_type": "code",
   "execution_count": 23,
   "id": "925cca45",
   "metadata": {},
   "outputs": [],
   "source": [
    "# Values for each top 5 maternal mortality country\n",
    "s_sudan_mat_mortality = new_df[(new_df.Series =='Maternal mortality ratio (deaths per 100,000 population)')\\\n",
    "                               & (new_df['Country'] == 'South Sudan') ].Value\n",
    "chad_mat_mortality = new_df[(new_df.Series =='Maternal mortality ratio (deaths per 100,000 population)')\\\n",
    "                               & (new_df['Country'] == 'Chad') ].Value\n",
    "nigeria_mat_mortality = new_df[(new_df.Series =='Maternal mortality ratio (deaths per 100,000 population)')\\\n",
    "                               & (new_df['Country'] == 'Nigeria') ].Value\n",
    "caf_mat_mortality = new_df[(new_df.Series =='Maternal mortality ratio (deaths per 100,000 population)')\\\n",
    "                               & (new_df['Country'] == 'Central African Republic') ].Value\n",
    "somalia_mat_mortality = new_df[(new_df.Series =='Maternal mortality ratio (deaths per 100,000 population)')\\\n",
    "                               & (new_df['Country'] == 'Somalia') ].Value"
   ]
  },
  {
   "cell_type": "code",
   "execution_count": 24,
   "id": "d69d9db5",
   "metadata": {},
   "outputs": [],
   "source": [
    "# Values for each top 5 infant mortality country\n",
    "sierra_leone_inf_mortality = new_df[(new_df.Series =='Infant mortality for both sexes (per 1,000 live births)')\\\n",
    "                               & (new_df['Country'] == 'Sierra Leone') ].Value\n",
    "chad_inf_mortality = new_df[(new_df.Series =='Infant mortality for both sexes (per 1,000 live births)')\\\n",
    "                               & (new_df['Country'] == 'Chad') ].Value\n",
    "nigeria_inf_mortality = new_df[(new_df.Series =='Infant mortality for both sexes (per 1,000 live births)')\\\n",
    "                               & (new_df['Country'] == 'Nigeria') ].Value\n",
    "caf_inf_mortality = new_df[(new_df.Series =='Infant mortality for both sexes (per 1,000 live births)')\\\n",
    "                               & (new_df['Country'] == 'Central African Republic') ].Value\n",
    "somalia_inf_mortality = new_df[(new_df.Series =='Infant mortality for both sexes (per 1,000 live births)')\\\n",
    "                               & (new_df['Country'] == 'Somalia') ].Value"
   ]
  },
  {
   "cell_type": "code",
   "execution_count": 25,
   "id": "a54a401b",
   "metadata": {
    "scrolled": true
   },
   "outputs": [
    {
     "name": "stdout",
     "output_type": "stream",
     "text": [
      "LeveneResult(statistic=0.4697702005843023, pvalue=0.7571153185971469)\n",
      "LeveneResult(statistic=0.7436877542432324, pvalue=0.5770287319557599)\n"
     ]
    }
   ],
   "source": [
    "# Check similarity in maternal mortality variance for top 5 countries\n",
    "print(levene(s_sudan_mat_mortality, \n",
    "             chad_mat_mortality, \n",
    "             nigeria_mat_mortality, \n",
    "             caf_mat_mortality, \n",
    "             somalia_mat_mortality\n",
    "            )\n",
    "     )\n",
    "\n",
    "# Check similarity in infant mortality variance for top 5 countries\n",
    "print(levene(chad_inf_mortality, \n",
    "             sierra_leone_inf_mortality, \n",
    "             nigeria_inf_mortality, \n",
    "             caf_inf_mortality, \n",
    "             somalia_inf_mortality\n",
    "            )\n",
    "     )"
   ]
  },
  {
   "cell_type": "markdown",
   "id": "4c1b3fa0",
   "metadata": {},
   "source": [
    "With p-values for top 5 Infant mortality and maternal mortality countries greater than 0.05, we fail to reject the null hypothesis that each group has the same variance."
   ]
  },
  {
   "cell_type": "code",
   "execution_count": 26,
   "id": "74909a29",
   "metadata": {},
   "outputs": [
    {
     "data": {
      "text/plain": [
       "0.008841312395907196"
      ]
     },
     "execution_count": 26,
     "metadata": {},
     "output_type": "execute_result"
    }
   ],
   "source": [
    "# Check for difference between group means\n",
    "t1, pval1 = f_oneway(s_sudan_mat_mortality, \n",
    "                     chad_mat_mortality, \n",
    "                     nigeria_mat_mortality, \n",
    "                     caf_mat_mortality, \n",
    "                     somalia_mat_mortality)\n",
    "pval1"
   ]
  },
  {
   "cell_type": "markdown",
   "id": "201bb520",
   "metadata": {},
   "source": [
    "With p-value < 0.05, we cannot fail to reject the null hypothesis that there is no difference in population means between each group in the top five maternal mortality countries."
   ]
  },
  {
   "cell_type": "code",
   "execution_count": 27,
   "id": "a17ff889",
   "metadata": {},
   "outputs": [
    {
     "data": {
      "text/plain": [
       "0.9429865161095413"
      ]
     },
     "execution_count": 27,
     "metadata": {},
     "output_type": "execute_result"
    }
   ],
   "source": [
    "# Check for difference between group means\n",
    "t2, pval2 = f_oneway(sierra_leone_inf_mortality,\n",
    "                     chad_inf_mortality, \n",
    "                     nigeria_inf_mortality, \n",
    "                     caf_inf_mortality,\n",
    "                     somalia_inf_mortality)\n",
    "pval2"
   ]
  },
  {
   "cell_type": "markdown",
   "id": "1775d68d",
   "metadata": {},
   "source": [
    "With p-value > 0.05, we fail to reject the null hypothesis that there is no difference in population mean between each group in the top five infant mortality countries."
   ]
  },
  {
   "cell_type": "code",
   "execution_count": 28,
   "id": "a4d71161",
   "metadata": {
    "scrolled": true
   },
   "outputs": [
    {
     "data": {
      "text/html": [
       "<div>\n",
       "<style scoped>\n",
       "    .dataframe tbody tr th:only-of-type {\n",
       "        vertical-align: middle;\n",
       "    }\n",
       "\n",
       "    .dataframe tbody tr th {\n",
       "        vertical-align: top;\n",
       "    }\n",
       "\n",
       "    .dataframe thead th {\n",
       "        text-align: right;\n",
       "    }\n",
       "</style>\n",
       "<table border=\"1\" class=\"dataframe\">\n",
       "  <thead>\n",
       "    <tr style=\"text-align: right;\">\n",
       "      <th></th>\n",
       "      <th>Contrast</th>\n",
       "      <th>A</th>\n",
       "      <th>B</th>\n",
       "      <th>Paired</th>\n",
       "      <th>Parametric</th>\n",
       "      <th>T</th>\n",
       "      <th>dof</th>\n",
       "      <th>alternative</th>\n",
       "      <th>p-unc</th>\n",
       "      <th>p-corr</th>\n",
       "      <th>p-adjust</th>\n",
       "      <th>BF10</th>\n",
       "      <th>hedges</th>\n",
       "    </tr>\n",
       "  </thead>\n",
       "  <tbody>\n",
       "    <tr>\n",
       "      <th>0</th>\n",
       "      <td>Country</td>\n",
       "      <td>Central African Republic</td>\n",
       "      <td>Chad</td>\n",
       "      <td>False</td>\n",
       "      <td>True</td>\n",
       "      <td>-2.411349</td>\n",
       "      <td>4.0</td>\n",
       "      <td>two-sided</td>\n",
       "      <td>0.073447</td>\n",
       "      <td>0.440684</td>\n",
       "      <td>holm</td>\n",
       "      <td>1.618</td>\n",
       "      <td>-1.575087</td>\n",
       "    </tr>\n",
       "    <tr>\n",
       "      <th>1</th>\n",
       "      <td>Country</td>\n",
       "      <td>Central African Republic</td>\n",
       "      <td>Nigeria</td>\n",
       "      <td>False</td>\n",
       "      <td>True</td>\n",
       "      <td>-2.387054</td>\n",
       "      <td>4.0</td>\n",
       "      <td>two-sided</td>\n",
       "      <td>0.075409</td>\n",
       "      <td>0.440684</td>\n",
       "      <td>holm</td>\n",
       "      <td>1.595</td>\n",
       "      <td>-1.559217</td>\n",
       "    </tr>\n",
       "    <tr>\n",
       "      <th>2</th>\n",
       "      <td>Country</td>\n",
       "      <td>Central African Republic</td>\n",
       "      <td>Somalia</td>\n",
       "      <td>False</td>\n",
       "      <td>True</td>\n",
       "      <td>1.274647</td>\n",
       "      <td>4.0</td>\n",
       "      <td>two-sided</td>\n",
       "      <td>0.271445</td>\n",
       "      <td>1.000000</td>\n",
       "      <td>holm</td>\n",
       "      <td>0.842</td>\n",
       "      <td>0.832596</td>\n",
       "    </tr>\n",
       "    <tr>\n",
       "      <th>3</th>\n",
       "      <td>Country</td>\n",
       "      <td>Central African Republic</td>\n",
       "      <td>South Sudan</td>\n",
       "      <td>False</td>\n",
       "      <td>True</td>\n",
       "      <td>-2.827579</td>\n",
       "      <td>4.0</td>\n",
       "      <td>two-sided</td>\n",
       "      <td>0.047461</td>\n",
       "      <td>0.332230</td>\n",
       "      <td>holm</td>\n",
       "      <td>2.052</td>\n",
       "      <td>-1.846967</td>\n",
       "    </tr>\n",
       "    <tr>\n",
       "      <th>4</th>\n",
       "      <td>Country</td>\n",
       "      <td>Chad</td>\n",
       "      <td>Nigeria</td>\n",
       "      <td>False</td>\n",
       "      <td>True</td>\n",
       "      <td>0.914960</td>\n",
       "      <td>4.0</td>\n",
       "      <td>two-sided</td>\n",
       "      <td>0.411979</td>\n",
       "      <td>1.000000</td>\n",
       "      <td>holm</td>\n",
       "      <td>0.705</td>\n",
       "      <td>0.597649</td>\n",
       "    </tr>\n",
       "    <tr>\n",
       "      <th>5</th>\n",
       "      <td>Country</td>\n",
       "      <td>Chad</td>\n",
       "      <td>Somalia</td>\n",
       "      <td>False</td>\n",
       "      <td>True</td>\n",
       "      <td>3.116156</td>\n",
       "      <td>4.0</td>\n",
       "      <td>two-sided</td>\n",
       "      <td>0.035659</td>\n",
       "      <td>0.320930</td>\n",
       "      <td>holm</td>\n",
       "      <td>2.407</td>\n",
       "      <td>2.035465</td>\n",
       "    </tr>\n",
       "    <tr>\n",
       "      <th>6</th>\n",
       "      <td>Country</td>\n",
       "      <td>Chad</td>\n",
       "      <td>South Sudan</td>\n",
       "      <td>False</td>\n",
       "      <td>True</td>\n",
       "      <td>-0.062721</td>\n",
       "      <td>4.0</td>\n",
       "      <td>two-sided</td>\n",
       "      <td>0.952998</td>\n",
       "      <td>1.000000</td>\n",
       "      <td>holm</td>\n",
       "      <td>0.563</td>\n",
       "      <td>-0.040969</td>\n",
       "    </tr>\n",
       "    <tr>\n",
       "      <th>7</th>\n",
       "      <td>Country</td>\n",
       "      <td>Nigeria</td>\n",
       "      <td>Somalia</td>\n",
       "      <td>False</td>\n",
       "      <td>True</td>\n",
       "      <td>3.062679</td>\n",
       "      <td>4.0</td>\n",
       "      <td>two-sided</td>\n",
       "      <td>0.037560</td>\n",
       "      <td>0.320930</td>\n",
       "      <td>holm</td>\n",
       "      <td>2.338</td>\n",
       "      <td>2.000533</td>\n",
       "    </tr>\n",
       "    <tr>\n",
       "      <th>8</th>\n",
       "      <td>Country</td>\n",
       "      <td>Nigeria</td>\n",
       "      <td>South Sudan</td>\n",
       "      <td>False</td>\n",
       "      <td>True</td>\n",
       "      <td>-1.257494</td>\n",
       "      <td>4.0</td>\n",
       "      <td>two-sided</td>\n",
       "      <td>0.276986</td>\n",
       "      <td>1.000000</td>\n",
       "      <td>holm</td>\n",
       "      <td>0.834</td>\n",
       "      <td>-0.821391</td>\n",
       "    </tr>\n",
       "    <tr>\n",
       "      <th>9</th>\n",
       "      <td>Country</td>\n",
       "      <td>Somalia</td>\n",
       "      <td>South Sudan</td>\n",
       "      <td>False</td>\n",
       "      <td>True</td>\n",
       "      <td>-3.420840</td>\n",
       "      <td>4.0</td>\n",
       "      <td>two-sided</td>\n",
       "      <td>0.026760</td>\n",
       "      <td>0.267595</td>\n",
       "      <td>holm</td>\n",
       "      <td>2.835</td>\n",
       "      <td>-2.234483</td>\n",
       "    </tr>\n",
       "  </tbody>\n",
       "</table>\n",
       "</div>"
      ],
      "text/plain": [
       "  Contrast                         A            B  Paired  Parametric  \\\n",
       "0  Country  Central African Republic         Chad   False        True   \n",
       "1  Country  Central African Republic      Nigeria   False        True   \n",
       "2  Country  Central African Republic      Somalia   False        True   \n",
       "3  Country  Central African Republic  South Sudan   False        True   \n",
       "4  Country                      Chad      Nigeria   False        True   \n",
       "5  Country                      Chad      Somalia   False        True   \n",
       "6  Country                      Chad  South Sudan   False        True   \n",
       "7  Country                   Nigeria      Somalia   False        True   \n",
       "8  Country                   Nigeria  South Sudan   False        True   \n",
       "9  Country                   Somalia  South Sudan   False        True   \n",
       "\n",
       "          T  dof alternative     p-unc    p-corr p-adjust   BF10    hedges  \n",
       "0 -2.411349  4.0   two-sided  0.073447  0.440684     holm  1.618 -1.575087  \n",
       "1 -2.387054  4.0   two-sided  0.075409  0.440684     holm  1.595 -1.559217  \n",
       "2  1.274647  4.0   two-sided  0.271445  1.000000     holm  0.842  0.832596  \n",
       "3 -2.827579  4.0   two-sided  0.047461  0.332230     holm  2.052 -1.846967  \n",
       "4  0.914960  4.0   two-sided  0.411979  1.000000     holm  0.705  0.597649  \n",
       "5  3.116156  4.0   two-sided  0.035659  0.320930     holm  2.407  2.035465  \n",
       "6 -0.062721  4.0   two-sided  0.952998  1.000000     holm  0.563 -0.040969  \n",
       "7  3.062679  4.0   two-sided  0.037560  0.320930     holm  2.338  2.000533  \n",
       "8 -1.257494  4.0   two-sided  0.276986  1.000000     holm  0.834 -0.821391  \n",
       "9 -3.420840  4.0   two-sided  0.026760  0.267595     holm  2.835 -2.234483  "
      ]
     },
     "execution_count": 28,
     "metadata": {},
     "output_type": "execute_result"
    }
   ],
   "source": [
    "# Check if the difference in means is actual or due to multiple tests\n",
    "pg.pairwise_tests(\n",
    "    dv = 'Value', \n",
    "    between = 'Country', \n",
    "    data = df_mat_mortality, \n",
    "    padjust = 'holm'\n",
    ")"
   ]
  },
  {
   "cell_type": "markdown",
   "id": "7a8dda66",
   "metadata": {},
   "source": [
    "From `p-unc` values, we can see that mean difference occured between Central African Republic vs South Sudan, Chad vs Somalia, Nigeria vs Somalia, and Somalia vs South Sudan. This happened due to multiple test. The `p_corr` gives the corrected/adjusted p_values and we can see that actually, there is no mean difference between the top 5 maternal mortality countries."
   ]
  },
  {
   "cell_type": "markdown",
   "id": "32c652d0",
   "metadata": {},
   "source": [
    "<a id='summary'></a>\n",
    "### Summary\n",
    "\n",
    "In this project, I investigated top 5 martenal mortality and top 5 infant mortality countries by mean to draw inferences if there is actually any difference between them. The following are my findings\n",
    "1. Each country in the dataset has equal observation (27)<br>\n",
    "2. Based on average, South Sudan, Chad, Nigeria, Central African Republic, Somalia are top 5 maternal mortality countries. South Sudan tops the chart with average maternal mortality rate of about 1170 between year 2010 to 2022. Somalis has the least in this group with about 782 deaths.<br>\n",
    "3. Based on average, Sierra Leone, Chad, Nigeria, Central African Republic, and Somalia are top 5 infant mortality countries. Sierra Leone tops this group with average deaths of about 84 during the same time frame. Chad has the least with about 77 deaths.<br>\n",
    "4. Statistically, there is actually no difference in mortality rate between these countries. This means that on average, both infant mortality rate and maternal mortality rate between the respective top 5 countries are the same."
   ]
  }
 ],
 "metadata": {
  "kernelspec": {
   "display_name": "Python 3 (ipykernel)",
   "language": "python",
   "name": "python3"
  },
  "language_info": {
   "codemirror_mode": {
    "name": "ipython",
    "version": 3
   },
   "file_extension": ".py",
   "mimetype": "text/x-python",
   "name": "python",
   "nbconvert_exporter": "python",
   "pygments_lexer": "ipython3",
   "version": "3.8.13"
  }
 },
 "nbformat": 4,
 "nbformat_minor": 5
}
